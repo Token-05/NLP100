{
 "cells": [
  {
   "cell_type": "code",
   "execution_count": null,
   "metadata": {},
   "outputs": [],
   "source": [
    "# 形態素解析結果を 'neko.txt.mecab' として出力\n",
    "\n",
    "import MeCab\n",
    "\n",
    "def mecab_analyze(input_file, output_file):\n",
    "    mecab = MeCab.Tagger()\n",
    "\n",
    "    with open(input_file, 'r', encoding='utf-8') as f:\n",
    "        input_text = f.read()\n",
    "\n",
    "    result = mecab.parse(input_text)\n",
    "\n",
    "    with open(output_file, 'w', encoding='utf-8') as f:\n",
    "        f.write(result)\n",
    "\n",
    "input_file = 'neko.txt'\n",
    "output_file = 'neko.txt.mecab'\n",
    "mecab_analyze(input_file, output_file)"
   ]
  }
 ],
 "metadata": {
  "language_info": {
   "name": "python"
  }
 },
 "nbformat": 4,
 "nbformat_minor": 2
}
