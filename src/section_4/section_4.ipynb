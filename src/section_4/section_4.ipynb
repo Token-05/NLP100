{
 "cells": [
  {
   "cell_type": "markdown",
   "metadata": {},
   "source": [
    "30. 形態素解析結果の読み込み\n",
    "\n",
    "形態素解析結果（neko.txt.mecab）を読み込むプログラムを実装せよ．ただし，各形態素は表層形（surface），基本形（base），品詞（pos），品詞細分類1（pos1）をキーとするマッピング型に格納し，1文を形態素（マッピング型）のリストとして表現せよ．第4章の残りの問題では，ここで作ったプログラムを活用せよ．"
   ]
  },
  {
   "cell_type": "code",
   "execution_count": 63,
   "metadata": {},
   "outputs": [
    {
     "data": {
      "text/plain": [
       "[{'surface': '一', 'base': '一', 'pos': '名詞-数詞', 'pos1': ''},\n",
       " {'surface': '\\u3000', 'base': '\\u3000', 'pos': '空白', 'pos1': ''},\n",
       " {'surface': '吾輩', 'base': '我が輩', 'pos': '代名詞', 'pos1': ''},\n",
       " {'surface': 'は', 'base': 'は', 'pos': '助詞-係助詞', 'pos1': ''},\n",
       " {'surface': '猫', 'base': '猫', 'pos': '名詞-普通名詞-一般', 'pos1': ''},\n",
       " {'surface': 'で', 'base': 'だ', 'pos': '助動詞', 'pos1': '助動詞-ダ'},\n",
       " {'surface': 'ある', 'base': '有る', 'pos': '動詞-非自立可能', 'pos1': '五段-ラ行'},\n",
       " {'surface': '。', 'base': '。', 'pos': '補助記号-句点', 'pos1': ''},\n",
       " {'surface': '名前', 'base': '名前', 'pos': '名詞-普通名詞-一般', 'pos1': ''},\n",
       " {'surface': 'は', 'base': 'は', 'pos': '助詞-係助詞', 'pos1': ''}]"
      ]
     },
     "execution_count": 63,
     "metadata": {},
     "output_type": "execute_result"
    }
   ],
   "source": [
    "data = list()\n",
    "with open(\"neko.txt.mecab\",\"r\") as buffers:\n",
    "    for l in buffers:\n",
    "        if l == 'EOS':\n",
    "            break\n",
    "        i = l.split(\"\\t\")\n",
    "        d = dict()\n",
    "        d = {'surface':i[0], 'base':i[3], 'pos':i[4], 'pos1':i[5]}\n",
    "        data.append(d)\n",
    "data[:10]"
   ]
  },
  {
   "cell_type": "markdown",
   "metadata": {},
   "source": [
    "31. 動詞\n",
    "\n",
    "動詞の表層形をすべて抽出せよ．"
   ]
  },
  {
   "cell_type": "code",
   "execution_count": 64,
   "metadata": {},
   "outputs": [
    {
     "data": {
      "text/plain": [
       "[{'surface': 'で', 'base': 'だ', 'pos': '助動詞', 'pos1': '助動詞-ダ'},\n",
       " {'surface': 'ある', 'base': '有る', 'pos': '動詞-非自立可能', 'pos1': '五段-ラ行'},\n",
       " {'surface': '生れ', 'base': '生まれる', 'pos': '動詞-一般', 'pos1': '下一段-ラ行'},\n",
       " {'surface': 'た', 'base': 'た', 'pos': '助動詞', 'pos1': '助動詞-タ'},\n",
       " {'surface': 'んと', 'base': 'うんと', 'pos': '感動詞-フィラー', 'pos1': ''},\n",
       " {'surface': 'つか', 'base': '付く', 'pos': '動詞-非自立可能', 'pos1': '五段-カ行'},\n",
       " {'surface': 'ぬ', 'base': 'ず', 'pos': '助動詞', 'pos1': '助動詞-ヌ'},\n",
       " {'surface': 'し', 'base': '為る', 'pos': '動詞-非自立可能', 'pos1': 'サ行変格'},\n",
       " {'surface': 'た', 'base': 'た', 'pos': '助動詞', 'pos1': '助動詞-タ'},\n",
       " {'surface': '泣い', 'base': '泣く', 'pos': '動詞-一般', 'pos1': '五段-カ行'}]"
      ]
     },
     "execution_count": 64,
     "metadata": {},
     "output_type": "execute_result"
    }
   ],
   "source": [
    "doushi = list()\n",
    "for i in data:\n",
    "    if '動詞' in i['pos']:\n",
    "        doushi.append(i)\n",
    "doushi[:10]"
   ]
  },
  {
   "cell_type": "markdown",
   "metadata": {},
   "source": [
    "32. 動詞の原形\n",
    "\n",
    "動詞の基本形をすべて抽出せよ．"
   ]
  },
  {
   "cell_type": "code",
   "execution_count": 65,
   "metadata": {},
   "outputs": [
    {
     "data": {
      "text/plain": [
       "['だ', '有る', '生まれる', 'た', 'うんと', '付く', 'ず', '為る', 'た', '泣く']"
      ]
     },
     "execution_count": 65,
     "metadata": {},
     "output_type": "execute_result"
    }
   ],
   "source": [
    "doushi_base = list()\n",
    "for i in doushi:\n",
    "    doushi_base.append(i['base'])\n",
    "doushi_base[:10]"
   ]
  },
  {
   "cell_type": "markdown",
   "metadata": {},
   "source": [
    "33. 「AのB」\n",
    "\n",
    "2つの名詞が「の」で連結されている名詞句を抽出せよ．"
   ]
  },
  {
   "cell_type": "code",
   "execution_count": null,
   "metadata": {},
   "outputs": [],
   "source": []
  }
 ],
 "metadata": {
  "kernelspec": {
   "display_name": "Python 3",
   "language": "python",
   "name": "python3"
  },
  "language_info": {
   "codemirror_mode": {
    "name": "ipython",
    "version": 3
   },
   "file_extension": ".py",
   "mimetype": "text/x-python",
   "name": "python",
   "nbconvert_exporter": "python",
   "pygments_lexer": "ipython3",
   "version": "3.9.6"
  }
 },
 "nbformat": 4,
 "nbformat_minor": 2
}
