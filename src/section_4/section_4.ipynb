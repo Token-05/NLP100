{
 "cells": [
  {
   "cell_type": "markdown",
   "metadata": {},
   "source": [
    "30. 形態素解析結果の読み込み\n",
    "\n",
    "形態素解析結果（neko.txt.mecab）を読み込むプログラムを実装せよ．ただし，各形態素は表層形（surface），基本形（base），品詞（pos），品詞細分類1（pos1）をキーとするマッピング型に格納し，1文を形態素（マッピング型）のリストとして表現せよ．第4章の残りの問題では，ここで作ったプログラムを活用せよ．"
   ]
  },
  {
   "cell_type": "code",
   "execution_count": 21,
   "metadata": {},
   "outputs": [
    {
     "data": {
      "text/plain": [
       "[{'surface': '一', 'base': '一', 'pos': '名詞-数詞', 'pos1': ''},\n",
       " {'surface': '\\u3000', 'base': '\\u3000', 'pos': '空白', 'pos1': ''},\n",
       " {'surface': '吾輩', 'base': '我が輩', 'pos': '代名詞', 'pos1': ''},\n",
       " {'surface': 'は', 'base': 'は', 'pos': '助詞-係助詞', 'pos1': ''},\n",
       " {'surface': '猫', 'base': '猫', 'pos': '名詞-普通名詞-一般', 'pos1': ''},\n",
       " {'surface': 'で', 'base': 'だ', 'pos': '助動詞', 'pos1': '助動詞-ダ'},\n",
       " {'surface': 'ある', 'base': '有る', 'pos': '動詞-非自立可能', 'pos1': '五段-ラ行'},\n",
       " {'surface': '。', 'base': '。', 'pos': '補助記号-句点', 'pos1': ''},\n",
       " {'surface': '名前', 'base': '名前', 'pos': '名詞-普通名詞-一般', 'pos1': ''},\n",
       " {'surface': 'は', 'base': 'は', 'pos': '助詞-係助詞', 'pos1': ''}]"
      ]
     },
     "execution_count": 21,
     "metadata": {},
     "output_type": "execute_result"
    }
   ],
   "source": [
    "data = list()\n",
    "\n",
    "with open(\"neko.txt.mecab\",\"r\") as buffers:\n",
    "\n",
    "    for l in buffers:\n",
    "\n",
    "        '''\n",
    "        - 各行についてスペースで分割してリスト化\n",
    "        - 辞書に、それぞれをキーとして得られたリストのそれぞれの要素を追加\n",
    "        - 全辞書を格納する配列に格納\n",
    "        - 再就業に行った場合は抜け出す\n",
    "        '''\n",
    "        if l == 'EOS':\n",
    "            break\n",
    "        i = l.split(\"\\t\")\n",
    "        d = dict()\n",
    "        d = {'surface':i[0], 'base':i[3], 'pos':i[4], 'pos1':i[5]}\n",
    "        data.append(d)\n",
    "\n",
    "data[:10]"
   ]
  },
  {
   "cell_type": "markdown",
   "metadata": {},
   "source": [
    "31. 動詞\n",
    "\n",
    "動詞の表層形をすべて抽出せよ．"
   ]
  },
  {
   "cell_type": "code",
   "execution_count": 22,
   "metadata": {},
   "outputs": [
    {
     "data": {
      "text/plain": [
       "[{'surface': 'で', 'base': 'だ', 'pos': '助動詞', 'pos1': '助動詞-ダ'},\n",
       " {'surface': 'ある', 'base': '有る', 'pos': '動詞-非自立可能', 'pos1': '五段-ラ行'},\n",
       " {'surface': '生れ', 'base': '生まれる', 'pos': '動詞-一般', 'pos1': '下一段-ラ行'},\n",
       " {'surface': 'た', 'base': 'た', 'pos': '助動詞', 'pos1': '助動詞-タ'},\n",
       " {'surface': 'んと', 'base': 'うんと', 'pos': '感動詞-フィラー', 'pos1': ''},\n",
       " {'surface': 'つか', 'base': '付く', 'pos': '動詞-非自立可能', 'pos1': '五段-カ行'},\n",
       " {'surface': 'ぬ', 'base': 'ず', 'pos': '助動詞', 'pos1': '助動詞-ヌ'},\n",
       " {'surface': 'し', 'base': '為る', 'pos': '動詞-非自立可能', 'pos1': 'サ行変格'},\n",
       " {'surface': 'た', 'base': 'た', 'pos': '助動詞', 'pos1': '助動詞-タ'},\n",
       " {'surface': '泣い', 'base': '泣く', 'pos': '動詞-一般', 'pos1': '五段-カ行'}]"
      ]
     },
     "execution_count": 22,
     "metadata": {},
     "output_type": "execute_result"
    }
   ],
   "source": [
    "doushi = list()\n",
    "\n",
    "for i in data:\n",
    "\n",
    "    # リスト内の全辞書に対して品詞が動詞のものを抜き出してリスト化\n",
    "    if '動詞' in i['pos']:\n",
    "        doushi.append(i)\n",
    "\n",
    "doushi[:10]"
   ]
  },
  {
   "cell_type": "markdown",
   "metadata": {},
   "source": [
    "32. 動詞の原形\n",
    "\n",
    "動詞の基本形をすべて抽出せよ．"
   ]
  },
  {
   "cell_type": "code",
   "execution_count": 23,
   "metadata": {},
   "outputs": [
    {
     "data": {
      "text/plain": [
       "['だ', '有る', '生まれる', 'た', 'うんと', '付く', 'ず', '為る', 'た', '泣く']"
      ]
     },
     "execution_count": 23,
     "metadata": {},
     "output_type": "execute_result"
    }
   ],
   "source": [
    "doushi_base = list()\n",
    "\n",
    "for i in doushi:\n",
    "\n",
    "    # 先ほどの動詞リストについて、基本形を抜き出す\n",
    "    doushi_base.append(i['base'])\n",
    "\n",
    "doushi_base[:10]"
   ]
  },
  {
   "cell_type": "markdown",
   "metadata": {},
   "source": [
    "33. 「AのB」\n",
    "\n",
    "2つの名詞が「の」で連結されている名詞句を抽出せよ．"
   ]
  },
  {
   "cell_type": "code",
   "execution_count": 24,
   "metadata": {},
   "outputs": [
    {
     "data": {
      "text/plain": [
       "['烏の代り', '吾輩の足', '水の面', '甕の縁', '甕のふち', '年の間', '自然の力', '水の中', '座敷の上', '不可思議の太平']"
      ]
     },
     "execution_count": 24,
     "metadata": {},
     "output_type": "execute_result"
    }
   ],
   "source": [
    "A_no_B = list()\n",
    "\n",
    "for i in range(2,len(data)):\n",
    "\n",
    "    # 「名詞 + の + 名詞」 となる場合のみ、抜き出してリスト化\n",
    "    if '名詞' in data[i-2]['pos'] and 'の' in data[i-1]['surface'] and '助詞' in data[i-1]['pos'] and '名詞' in data[i]['pos']:\n",
    "        A_no_B.append(data[i-2]['surface']+data[i-1]['surface']+data[i]['surface'])\n",
    "\n",
    "A_no_B[-10:]"
   ]
  },
  {
   "cell_type": "markdown",
   "metadata": {},
   "source": [
    "34. 名詞の連接\n",
    "\n",
    "名詞の連接（連続して出現する名詞）を最長一致で抽出せよ．"
   ]
  },
  {
   "cell_type": "code",
   "execution_count": 25,
   "metadata": {},
   "outputs": [
    {
     "data": {
      "text/plain": [
       "'明治三十八年何月何日戸締り'"
      ]
     },
     "execution_count": 25,
     "metadata": {},
     "output_type": "execute_result"
    }
   ],
   "source": [
    "nameoflist = list()\n",
    "sum = list()\n",
    "\n",
    "for i in data:\n",
    "\n",
    "    '''\n",
    "    - もし名詞が見つかった場合はsumに追加\n",
    "    - 見つからなかった場合は、sumの中身がある限りnameoflistに追加\n",
    "    '''\n",
    "    if '名詞' in i['pos']: \n",
    "        sum.append(i['surface'])\n",
    "    else:\n",
    "        if len(sum) > 0: \n",
    "            nameoflist.append(sum)\n",
    "        sum = list()\n",
    "\n",
    "# 一番長いやつを出す\n",
    "''.join(max(nameoflist, key=lambda x: len(x)))"
   ]
  },
  {
   "cell_type": "markdown",
   "metadata": {},
   "source": [
    "35. 単語の出現頻度\n",
    "\n",
    "文章中に出現する単語とその出現頻度を求め，出現頻度の高い順に並べよ．"
   ]
  },
  {
   "cell_type": "code",
   "execution_count": 26,
   "metadata": {},
   "outputs": [
    {
     "data": {
      "text/plain": [
       "[('の', 9543),\n",
       " ('。', 7486),\n",
       " ('て', 7417),\n",
       " ('に', 7058),\n",
       " ('、', 6773),\n",
       " ('は', 6501),\n",
       " ('と', 6157),\n",
       " ('を', 6119),\n",
       " ('が', 5395),\n",
       " ('で', 4543),\n",
       " ('た', 3974),\n",
       " ('も', 3238),\n",
       " ('「', 3238),\n",
       " ('」', 3238),\n",
       " ('だ', 2705),\n",
       " ('し', 2528),\n",
       " ('ない', 2423),\n",
       " ('から', 2213),\n",
       " ('か', 2040),\n",
       " ('ある', 1730)]"
      ]
     },
     "execution_count": 26,
     "metadata": {},
     "output_type": "execute_result"
    }
   ],
   "source": [
    "# 標準ライブラリのCounter\n",
    "from collections import Counter\n",
    "\n",
    "# 出現単語をカウントし、多い順に並べたものをタプルで保持\n",
    "# 上位20単語を表示\n",
    "common = Counter([d['surface'] for d in data]).most_common()\n",
    "common[:20]"
   ]
  },
  {
   "cell_type": "markdown",
   "metadata": {},
   "source": [
    "36. 頻度上位10語\n",
    "\n",
    "出現頻度が高い10語とその出現頻度をグラフ（例えば棒グラフなど）で表示せよ．"
   ]
  },
  {
   "cell_type": "code",
   "execution_count": 27,
   "metadata": {},
   "outputs": [
    {
     "name": "stderr",
     "output_type": "stream",
     "text": [
      "/Users/taketsunaichiyanagi/Library/Python/3.9/lib/python/site-packages/IPython/core/pylabtools.py:152: UserWarning: Glyph 12398 (\\N{HIRAGANA LETTER NO}) missing from current font.\n",
      "  fig.canvas.print_figure(bytes_io, **kw)\n",
      "/Users/taketsunaichiyanagi/Library/Python/3.9/lib/python/site-packages/IPython/core/pylabtools.py:152: UserWarning: Glyph 12290 (\\N{IDEOGRAPHIC FULL STOP}) missing from current font.\n",
      "  fig.canvas.print_figure(bytes_io, **kw)\n",
      "/Users/taketsunaichiyanagi/Library/Python/3.9/lib/python/site-packages/IPython/core/pylabtools.py:152: UserWarning: Glyph 12390 (\\N{HIRAGANA LETTER TE}) missing from current font.\n",
      "  fig.canvas.print_figure(bytes_io, **kw)\n",
      "/Users/taketsunaichiyanagi/Library/Python/3.9/lib/python/site-packages/IPython/core/pylabtools.py:152: UserWarning: Glyph 12395 (\\N{HIRAGANA LETTER NI}) missing from current font.\n",
      "  fig.canvas.print_figure(bytes_io, **kw)\n",
      "/Users/taketsunaichiyanagi/Library/Python/3.9/lib/python/site-packages/IPython/core/pylabtools.py:152: UserWarning: Glyph 12289 (\\N{IDEOGRAPHIC COMMA}) missing from current font.\n",
      "  fig.canvas.print_figure(bytes_io, **kw)\n",
      "/Users/taketsunaichiyanagi/Library/Python/3.9/lib/python/site-packages/IPython/core/pylabtools.py:152: UserWarning: Glyph 12399 (\\N{HIRAGANA LETTER HA}) missing from current font.\n",
      "  fig.canvas.print_figure(bytes_io, **kw)\n",
      "/Users/taketsunaichiyanagi/Library/Python/3.9/lib/python/site-packages/IPython/core/pylabtools.py:152: UserWarning: Glyph 12392 (\\N{HIRAGANA LETTER TO}) missing from current font.\n",
      "  fig.canvas.print_figure(bytes_io, **kw)\n",
      "/Users/taketsunaichiyanagi/Library/Python/3.9/lib/python/site-packages/IPython/core/pylabtools.py:152: UserWarning: Glyph 12434 (\\N{HIRAGANA LETTER WO}) missing from current font.\n",
      "  fig.canvas.print_figure(bytes_io, **kw)\n",
      "/Users/taketsunaichiyanagi/Library/Python/3.9/lib/python/site-packages/IPython/core/pylabtools.py:152: UserWarning: Glyph 12364 (\\N{HIRAGANA LETTER GA}) missing from current font.\n",
      "  fig.canvas.print_figure(bytes_io, **kw)\n",
      "/Users/taketsunaichiyanagi/Library/Python/3.9/lib/python/site-packages/IPython/core/pylabtools.py:152: UserWarning: Glyph 12391 (\\N{HIRAGANA LETTER DE}) missing from current font.\n",
      "  fig.canvas.print_figure(bytes_io, **kw)\n"
     ]
    },
    {
     "data": {
      "image/png": "[encoded data removed]",
      "text/plain": [
       "<Figure size 640x480 with 1 Axes>"
      ]
     },
     "metadata": {},
     "output_type": "display_data"
    }
   ],
   "source": [
    "import matplotlib.pyplot as plt\n",
    "\n",
    "x_values = list()\n",
    "y_values = list()\n",
    "\n",
    "for i in common[:10]:\n",
    "\n",
    "    # 頻度が高い10語を取得\n",
    "    # 単語をX軸、その頻度をY軸に設定\n",
    "    x_values.append(i[0])\n",
    "    y_values.append(i[1])\n",
    "\n",
    "# 色はピンク、タイトルはFrequent words、ラベル名もそれぞれ設定しグラフ表示\n",
    "plt.bar(x_values, y_values, color='pink')\n",
    "plt.title('Frequent words')\n",
    "plt.xlabel('words')\n",
    "plt.ylabel('frequency')\n",
    "plt.show()\n"
   ]
  },
  {
   "cell_type": "markdown",
   "metadata": {},
   "source": [
    "37. 「猫」と共起頻度の高い上位10語\n",
    "\n",
    "「猫」とよく共起する（共起頻度が高い）10語とその出現頻度をグラフ（例えば棒グラフなど）で表示せよ．"
   ]
  },
  {
   "cell_type": "code",
   "execution_count": 28,
   "metadata": {},
   "outputs": [
    {
     "name": "stderr",
     "output_type": "stream",
     "text": [
      "/Users/taketsunaichiyanagi/Library/Python/3.9/lib/python/site-packages/IPython/core/pylabtools.py:152: UserWarning: Glyph 12384 (\\N{HIRAGANA LETTER DA}) missing from current font.\n",
      "  fig.canvas.print_figure(bytes_io, **kw)\n"
     ]
    },
    {
     "data": {
      "image/png": "[encoded data removed]",
      "text/plain": [
       "<Figure size 640x480 with 1 Axes>"
      ]
     },
     "metadata": {},
     "output_type": "display_data"
    }
   ],
   "source": [
    "# 'data' リストから各辞書の 'surface' 値を抽出\n",
    "# 共起分析する対象の単語\n",
    "surface = [d['surface'] for d in data]\n",
    "target_word = \"猫\"\n",
    "\n",
    "co_occurrences = []\n",
    "\n",
    "for i, word in enumerate(surface):\n",
    "\n",
    "    # 現在の単語が対象の単語であるかを確認\n",
    "    if word == target_word:\n",
    "\n",
    "        '''\n",
    "        - ターゲット言語の周辺にウィンドウを設定\n",
    "        - ウィンドウ内の単語を抽出(context_words)し、co_occurrencesに追加\n",
    "        '''\n",
    "        window_start = max(0, i - 3)\n",
    "        window_end = min(len(surface), i + 4)\n",
    "        context_words = surface[window_start:i] + surface[i+1:window_end]\n",
    "        co_occurrences.extend(context_words)\n",
    "\n",
    "# 出現単語をカウントし、多い順に並べたものをタプルで保持\n",
    "co_occurrence_counts = Counter(co_occurrences).most_common()\n",
    "\n",
    "x_values = list()\n",
    "y_values = list()\n",
    "\n",
    "for i in co_occurrence_counts[:10]:\n",
    "    \n",
    "    # 頻度が高い10語を取得\n",
    "    # 単語をX軸、その頻度をY軸に設定\n",
    "    x_values.append(i[0])\n",
    "    y_values.append(i[1])\n",
    "\n",
    "# 棒グラフとして表示\n",
    "plt.bar(x_values, y_values, color='pink')\n",
    "plt.title('Frequent words')\n",
    "plt.xlabel('words')\n",
    "plt.ylabel('frequency')\n",
    "plt.show()"
   ]
  },
  {
   "cell_type": "markdown",
   "metadata": {},
   "source": [
    "38. ヒストグラム\n",
    "\n",
    "単語の出現頻度のヒストグラムを描け．ただし，横軸は出現頻度を表し，1から単語の出現頻度の最大値までの線形目盛とする．縦軸はx軸で示される出現頻度となった単語の異なり数（種類数）である．"
   ]
  },
  {
   "cell_type": "code",
   "execution_count": 38,
   "metadata": {},
   "outputs": [
    {
     "data": {
      "image/png": "[encoded data removed]",
      "text/plain": [
       "<Figure size 640x480 with 1 Axes>"
      ]
     },
     "metadata": {},
     "output_type": "display_data"
    }
   ],
   "source": [
    "x_values = list()\n",
    "\n",
    "for i in common:\n",
    "    x_values.append(i[1])\n",
    "\n",
    "# Y軸は出現頻度とし、ヒストグラムで表す\n",
    "plt.hist(x_values,range=(1,100))\n",
    "plt.title('Histogram')\n",
    "plt.xlabel('Frequency')\n",
    "plt.ylabel('words')\n",
    "plt.show()"
   ]
  },
  {
   "cell_type": "markdown",
   "metadata": {},
   "source": [
    "39. Zipfの法則\n",
    "\n",
    "単語の出現頻度順位を横軸，その出現頻度を縦軸として，両対数グラフをプロットせよ．"
   ]
  },
  {
   "cell_type": "code",
   "execution_count": 35,
   "metadata": {},
   "outputs": [
    {
     "data": {
      "image/png": "[encoded data removed]",
      "text/plain": [
       "<Figure size 640x480 with 1 Axes>"
      ]
     },
     "metadata": {},
     "output_type": "display_data"
    }
   ],
   "source": [
    "x_values = list()\n",
    "y_values = list()\n",
    "\n",
    "for index,i in enumerate(common):\n",
    "    x_values.append(index)\n",
    "    y_values.append(i[1])\n",
    "\n",
    "# 先ほどのグラフについて、両軸のメモリスケールをlogに変更して表示\n",
    "plt.bar(x_values, y_values)\n",
    "plt.yscale('log')\n",
    "plt.xscale('log')\n",
    "plt.title('Histogram')\n",
    "plt.xlabel('Frequency')\n",
    "plt.ylabel('words')\n",
    "plt.show()"
   ]
  }
 ],
 "metadata": {
  "kernelspec": {
   "display_name": "Python 3",
   "language": "python",
   "name": "python3"
  },
  "language_info": {
   "codemirror_mode": {
    "name": "ipython",
    "version": 3
   },
   "file_extension": ".py",
   "mimetype": "text/x-python",
   "name": "python",
   "nbconvert_exporter": "python",
   "pygments_lexer": "ipython3",
   "version": "3.9.6"
  }
 },
 "nbformat": 4,
 "nbformat_minor": 2
}
