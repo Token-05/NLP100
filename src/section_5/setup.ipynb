{
 "cells": [
  {
   "cell_type": "code",
   "execution_count": null,
   "metadata": {},
   "outputs": [],
   "source": [
    "import CaboCha\n",
    "\n",
    "def analyze_dependency(sentence):\n",
    "    cabocha = CaboCha.Parser()\n",
    "    tree = cabocha.parse(sentence)\n",
    "\n",
    "    # 係り受け解析結果を取得\n",
    "    result = tree.toString(CaboCha.FORMAT_LATTICE)\n",
    "\n",
    "    return result\n",
    "\n",
    "def save_to_file(filename, content):\n",
    "    with open(filename, 'w', encoding='utf-8') as file:\n",
    "        file.write(content)\n",
    "\n",
    "if __name__ == \"__main__\":\n",
    "    input_file_path = \"ai.ja.txt\"\n",
    "    output_file_path = \"ai.ja.txt.parsed\"\n",
    "\n",
    "    with open(input_file_path, 'r', encoding='utf-8') as file:\n",
    "        text = file.read()\n",
    "\n",
    "    result = analyze_dependency(text)\n",
    "    save_to_file(output_file_path, result)\n",
    "    print(\"success\")"
   ]
  }
 ],
 "metadata": {
  "language_info": {
   "name": "python"
  }
 },
 "nbformat": 4,
 "nbformat_minor": 2
}
