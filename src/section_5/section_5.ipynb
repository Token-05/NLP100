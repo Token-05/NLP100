{
 "cells": [
  {
   "cell_type": "code",
   "execution_count": 2,
   "metadata": {},
   "outputs": [],
   "source": [
    "import re"
   ]
  },
  {
   "cell_type": "markdown",
   "metadata": {},
   "source": [
    "40. 係り受け解析結果の読み込み（形態素）\n",
    "\n",
    "形態素を表すクラスMorphを実装せよ．このクラスは表層形（surface），基本形（base），品詞（pos），品詞細分類1（pos1）をメンバ変数に持つこととする．さらに，係り受け解析の結果（ai.ja.txt.parsed）を読み込み，各文をMorphオブジェクトのリストとして表現し，冒頭の説明文の形態素列を表示せよ．"
   ]
  },
  {
   "cell_type": "code",
   "execution_count": 6,
   "metadata": {},
   "outputs": [
    {
     "name": "stdout",
     "output_type": "stream",
     "text": [
      "['*', '0', '17D', '3/3', '0.388993\\n']\n",
      "['人工', '人工', '名詞', '一般']\n",
      "['知能', '知能', '名詞', '一般']\n",
      "['人工', '人工', '名詞', '一般']\n",
      "['知能', '知能', '名詞', '一般']\n"
     ]
    }
   ],
   "source": [
    "class Morph:\n",
    "    \n",
    "    def __init__(self,surface,base,pos,pos1):\n",
    "        self.surface = surface\n",
    "        self.base = base\n",
    "        self.pos = pos\n",
    "        self.pos1 = pos1\n",
    "\n",
    "    def return_parsed(self):\n",
    "        return [self.surface,self.base,self.pos,self.pos1]\n",
    "\n",
    "pattern = r'^\\* \\d+ -?[0-9]+[A-Z] \\d+/\\d+ -?\\d+\\.\\d+$'\n",
    "\n",
    "with open('ai.ja.txt.parsed','r') as lines:\n",
    "    for line in lines:\n",
    "        matchs = re.findall(pattern,line)\n",
    "        if line == 'EOS':\n",
    "            break\n",
    "        elif matchs:\n",
    "            match_list = line.split(' ')\n",
    "            if match_list[1] == '1':\n",
    "                break\n",
    "            print(match_list)\n",
    "        else:\n",
    "            line = line.split('\\t')\n",
    "            surface,sentences = line[0],line[1]\n",
    "            sentence = sentences.split(',')\n",
    "            (base,pos,pos1) = sentence[6],sentence[0],sentence[1]\n",
    "            m = Morph(surface=surface,base=base,pos=pos,pos1=pos1)\n",
    "            print(m.return_parsed())"
   ]
  },
  {
   "cell_type": "markdown",
   "metadata": {},
   "source": [
    "41. 係り受け解析結果の読み込み（文節・係り受け）\n",
    "\n",
    "40に加えて，文節を表すクラスChunkを実装せよ．このクラスは形態素（Morphオブジェクト）のリスト（morphs），係り先文節インデックス番号（dst），係り元文節インデックス番号のリスト（srcs）をメンバ変数に持つこととする．さらに，入力テキストの係り受け解析結果を読み込み，１文をChunkオブジェクトのリストとして表現し，冒頭の説明文の文節の文字列と係り先を表示せよ．本章の残りの問題では，ここで作ったプログラムを活用せよ．"
   ]
  },
  {
   "cell_type": "code",
   "execution_count": 23,
   "metadata": {},
   "outputs": [
    {
     "name": "stdout",
     "output_type": "stream",
     "text": [
      "文節の文字列：人工知能人工知能\n",
      "係り先のインデックス番号：17\n",
      "\n",
      "文節の文字列：（じんこうちのう、、\n",
      "係り先のインデックス番号：17\n",
      "\n",
      "文節の文字列：AI\n",
      "係り先のインデックス番号：3\n",
      "\n",
      "文節の文字列：〈エーアイ〉）とは、\n",
      "係り先のインデックス番号：17\n",
      "\n",
      "文節の文字列：「『計算\n",
      "係り先のインデックス番号：5\n",
      "\n"
     ]
    }
   ],
   "source": [
    "class Chunk:\n",
    "    \n",
    "    def __init__(self, morphs, dst, srcs, chunk_id):\n",
    "        self.morphs = morphs\n",
    "        self.dst = dst\n",
    "        self.srcs = srcs\n",
    "        self.chunk_id = chunk_id\n",
    "    \n",
    "    def return_string_dependency(self):\n",
    "        return \"\".join(self.morphs),self.dst\n",
    "\n",
    "pattern = r'^\\* \\d+ -?[0-9]+[A-Z] \\d+/\\d+ -?\\d+\\.\\d+$'\n",
    "morphs = []\n",
    "chunks = []\n",
    "dst = None\n",
    "srcs = None\n",
    "chunk_id = -1\n",
    "\n",
    "with open('ai.ja.txt.parsed','r') as lines:\n",
    "    for line in lines:\n",
    "        matchs = re.findall(pattern,line)\n",
    "        if line == 'EOS':\n",
    "            break\n",
    "        elif matchs:\n",
    "            match_list = line.split(' ')\n",
    "            if chunk_id < 0:\n",
    "                chunk_id = 0\n",
    "            else:\n",
    "                chunks.append(Chunk(morphs,dst,srcs,chunk_id))\n",
    "            morphs = []\n",
    "            dst = int(match_list[2].replace(\"D\", \"\"))\n",
    "            chunk_id = int(match_list[1])\n",
    "            srcs=None\n",
    "        else:\n",
    "            line = line.split('\\t')\n",
    "            surface,sentences = line[0],line[1]\n",
    "            sentence = sentences.split(',')\n",
    "            (base,pos,pos1) = sentence[6],sentence[0],sentence[1]\n",
    "            morphs.append(Morph(surface,base,pos,pos1).surface)\n",
    "\n",
    "for chunk in chunks[:5]:\n",
    "    (sentence,dst) = chunk.return_string_dependency()\n",
    "    print(f\"文節の文字列：{sentence}\\n係り先のインデックス番号：{dst}\\n\")"
   ]
  }
 ],
 "metadata": {
  "kernelspec": {
   "display_name": "Python 3",
   "language": "python",
   "name": "python3"
  },
  "language_info": {
   "codemirror_mode": {
    "name": "ipython",
    "version": 3
   },
   "file_extension": ".py",
   "mimetype": "text/x-python",
   "name": "python",
   "nbconvert_exporter": "python",
   "pygments_lexer": "ipython3",
   "version": "3.9.6"
  }
 },
 "nbformat": 4,
 "nbformat_minor": 2
}
