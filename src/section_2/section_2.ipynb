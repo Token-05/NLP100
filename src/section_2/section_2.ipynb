{
 "cells": [
  {
   "cell_type": "markdown",
   "metadata": {},
   "source": [
    "10. 行数のカウント\n",
    "\n",
    "行数をカウントせよ．確認にはwcコマンドを用いよ．"
   ]
  },
  {
   "cell_type": "code",
   "execution_count": 1,
   "metadata": {},
   "outputs": [
    {
     "data": {
      "text/plain": [
       "2780"
      ]
     },
     "execution_count": 1,
     "metadata": {},
     "output_type": "execute_result"
    }
   ],
   "source": [
    "count = 0\n",
    "with open(\"popular-names.txt\",\"r\") as f:\n",
    "    for l in f:\n",
    "        count += 1\n",
    "count"
   ]
  },
  {
   "cell_type": "markdown",
   "metadata": {},
   "source": [
    "11. タブをスペースに置換\n",
    "\n",
    "タブ1文字につきスペース1文字に置換せよ．確認にはsedコマンド，trコマンド，もしくはexpandコマンドを用いよ．"
   ]
  },
  {
   "cell_type": "code",
   "execution_count": 2,
   "metadata": {},
   "outputs": [
    {
     "name": "stdout",
     "output_type": "stream",
     "text": [
      "Mary F 7065 1880\n",
      "\n",
      "Anna F 2604 1880\n",
      "\n",
      "Emma F 2003 1880\n",
      "\n",
      "Elizabeth F 1939 1880\n",
      "\n",
      "Minnie F 1746 1880\n",
      "\n",
      "Margaret F 1578 1880\n",
      "\n",
      "Ida F 1472 1880\n",
      "\n",
      "Alice F 1414 1880\n",
      "\n",
      "Bertha F 1320 1880\n",
      "\n",
      "Sarah F 1288 1880\n",
      "\n"
     ]
    }
   ],
   "source": [
    "new = list()\n",
    "with open('popular-names.txt', 'r') as f:\n",
    "    for l in f:\n",
    "        new.append(l.replace(\"\\t\",\" \"))\n",
    "for i in new[:10]:\n",
    "    print(i)"
   ]
  },
  {
   "cell_type": "markdown",
   "metadata": {},
   "source": [
    "12. 1列目をcol1.txtに，2列目をcol2.txtに\n",
    "\n",
    "各行の1列目だけを抜き出したものをcol1.txtに，2列目だけを抜き出したものをcol2.txtとしてファイルに保存せよ．確認にはcutコマンドを用いよ．"
   ]
  },
  {
   "cell_type": "code",
   "execution_count": 3,
   "metadata": {},
   "outputs": [],
   "source": [
    "with open(\"popular-names.txt\",\"r\") as f:\n",
    "    for l in f:\n",
    "        line = l.split(\"\\t\")\n",
    "        with open(\"col1.txt\",\"a\") as c1:\n",
    "            c1.write(line[0]+\"\\n\")\n",
    "        with open(\"col2.txt\",\"a\") as c2:\n",
    "            c2.write(line[1]+\"\\n\")"
   ]
  },
  {
   "cell_type": "markdown",
   "metadata": {},
   "source": [
    "13. col1.txtとcol2.txtをマージ\n",
    "\n",
    "12で作ったcol1.txtとcol2.txtを結合し，元のファイルの1列目と2列目をタブ区切りで並べたテキストファイルを作成せよ．確認にはpasteコマンドを用いよ．"
   ]
  },
  {
   "cell_type": "code",
   "execution_count": 4,
   "metadata": {},
   "outputs": [],
   "source": [
    "\n",
    "with open(\"c1c2.txt\",\"a\") as c1c2:\n",
    "    for l in range(count):\n",
    "        with open(\"col1.txt\",\"r\") as c1:\n",
    "            with open(\"col2.txt\",\"r\") as c2:\n",
    "                c1c2.write(list(c1)[l].replace(\"\\n\",\"\")+\"\\t\"+list(c2)[l][0]+\"\\n\")"
   ]
  },
  {
   "cell_type": "markdown",
   "metadata": {},
   "source": [
    "14. 先頭からN行を出力\n",
    "\n",
    "自然数Nをコマンドライン引数などの手段で受け取り，入力のうち先頭のN行だけを表示せよ．確認にはheadコマンドを用いよ"
   ]
  },
  {
   "cell_type": "code",
   "execution_count": 5,
   "metadata": {},
   "outputs": [
    {
     "name": "stdout",
     "output_type": "stream",
     "text": [
      "Mary\tF\n",
      "Anna\tF\n",
      "Emma\tF\n",
      "Elizab\n",
      "Minnie\n",
      "Margar\n",
      "Ida\tF\t\n",
      "Alice\t\n",
      "Bertha\n",
      "Sarah\t\n"
     ]
    }
   ],
   "source": [
    "N = 6\n",
    "head = list()\n",
    "with open(\"popular-names.txt\",\"r\") as f:\n",
    "    for l in f:\n",
    "        head.append(''.join(l[:N]))\n",
    "for i in head[:10]:\n",
    "    print(i)"
   ]
  },
  {
   "cell_type": "markdown",
   "metadata": {},
   "source": [
    "15. 末尾のN行を出力\n",
    "\n",
    "自然数Nをコマンドライン引数などの手段で受け取り，入力のうち末尾のN行だけを表示せよ．確認にはtailコマンドを用いよ．"
   ]
  },
  {
   "cell_type": "code",
   "execution_count": 6,
   "metadata": {},
   "outputs": [
    {
     "name": "stdout",
     "output_type": "stream",
     "text": [
      "ry\tF\t7065\t1880\n",
      "\n",
      "na\tF\t2604\t1880\n",
      "\n",
      "ma\tF\t2003\t1880\n",
      "\n",
      "th\tF\t1939\t1880\n",
      "\n",
      "ie\tF\t1746\t1880\n",
      "\n",
      "et\tF\t1578\t1880\n",
      "\n",
      "da\tF\t1472\t1880\n",
      "\n",
      "ce\tF\t1414\t1880\n",
      "\n",
      "ha\tF\t1320\t1880\n",
      "\n",
      "ah\tF\t1288\t1880\n",
      "\n"
     ]
    }
   ],
   "source": [
    "N = 14\n",
    "head = list()\n",
    "with open(\"popular-names.txt\",\"r\") as f:\n",
    "    for l in f:\n",
    "        head.append(''.join(l[-N-1:]))\n",
    "for i in head[:10]:\n",
    "    print(i)"
   ]
  },
  {
   "cell_type": "markdown",
   "metadata": {},
   "source": [
    "16. ファイルをN分割する\n",
    "\n",
    "自然数Nをコマンドライン引数などの手段で受け取り，入力のファイルを行単位でN分割せよ．同様の処理をsplitコマンドで実現せよ．"
   ]
  },
  {
   "cell_type": "code",
   "execution_count": 7,
   "metadata": {},
   "outputs": [
    {
     "name": "stdout",
     "output_type": "stream",
     "text": [
      "Mary\tF\t7065\t1880\n",
      "\n",
      "Marie\tF\t3078\t1897\n",
      "\n",
      "Charles\tM\t16937\t1914\n",
      "\n",
      "Joan\tF\t21045\t1932\n",
      "\n",
      "John\tM\t81161\t1949\n",
      "\n",
      "Lisa\tF\t52435\t1967\n",
      "\n",
      "Heather\tF\t21492\t1984\n",
      "\n",
      "Andrew\tM\t22411\t2001\n",
      "\n"
     ]
    }
   ],
   "source": [
    "N = 8\n",
    "head = list()\n",
    "with open(\"popular-names.txt\",\"r\") as f:\n",
    "    for l in list(f)[::(count+N-1)//N]:\n",
    "        head.append(''.join(l))\n",
    "for i in head:\n",
    "    print(i)"
   ]
  },
  {
   "cell_type": "markdown",
   "metadata": {},
   "source": [
    "17. １列目の文字列の異なり\n",
    "\n",
    "1列目の文字列の種類（異なる文字列の集合）を求めよ．確認にはcut, sort, uniqコマンドを用いよ．"
   ]
  },
  {
   "cell_type": "code",
   "execution_count": 15,
   "metadata": {},
   "outputs": [
    {
     "data": {
      "text/plain": [
       "['Frances',\n",
       " 'Minnie',\n",
       " 'Samantha',\n",
       " 'Marie',\n",
       " 'Jayden',\n",
       " 'Sandra',\n",
       " 'Larry',\n",
       " 'Bertha',\n",
       " 'Amanda',\n",
       " 'Lucas']"
      ]
     },
     "execution_count": 15,
     "metadata": {},
     "output_type": "execute_result"
    }
   ],
   "source": [
    "A = list()\n",
    "with open(\"popular-names.txt\",\"r\") as f:\n",
    "    for l in f:\n",
    "        line = l.split(\"\\t\")\n",
    "        A.append(line[0])\n",
    "list(set(A))[:10]"
   ]
  },
  {
   "cell_type": "markdown",
   "metadata": {},
   "source": [
    "18. 各行を3コラム目の数値の降順にソート\n",
    "\n",
    "各行を3コラム目の数値の逆順で整列せよ（注意: 各行の内容は変更せずに並び替えよ）．確認にはsortコマンドを用いよ（この問題はコマンドで実行した時の結果と合わなくてもよい）．"
   ]
  },
  {
   "cell_type": "code",
   "execution_count": 12,
   "metadata": {},
   "outputs": [
    {
     "data": {
      "text/plain": [
       "[['Sarah', 'F', '1288', '1880\\n'],\n",
       " ['Alice', 'F', '1308', '1881\\n'],\n",
       " ['Bertha', 'F', '1320', '1880\\n'],\n",
       " ['Bertha', 'F', '1324', '1881\\n'],\n",
       " ['Annie', 'F', '1326', '1881\\n'],\n",
       " ['Alice', 'F', '1414', '1880\\n'],\n",
       " ['Ida', 'F', '1439', '1881\\n'],\n",
       " ['Ida', 'F', '1472', '1880\\n'],\n",
       " ['Annie', 'F', '1492', '1882\\n'],\n",
       " ['Bertha', 'F', '1508', '1882\\n']]"
      ]
     },
     "execution_count": 12,
     "metadata": {},
     "output_type": "execute_result"
    }
   ],
   "source": [
    "org = list()\n",
    "\n",
    "with open(\"popular-names.txt\",\"r\") as f:\n",
    "    for l in f:\n",
    "        org.append(l.split(\"\\t\"))\n",
    "\n",
    "sorted(org, key=lambda x: int(x[2]))[:10]"
   ]
  },
  {
   "cell_type": "markdown",
   "metadata": {},
   "source": [
    "19. 各行の1コラム目の文字列の出現頻度を求め，出現頻度の高い順に並べる\n",
    "\n",
    "各行の1列目の文字列の出現頻度を求め，その高い順に並べて表示せよ．確認にはcut, uniq, sortコマンドを用いよ．"
   ]
  },
  {
   "cell_type": "code",
   "execution_count": 11,
   "metadata": {},
   "outputs": [
    {
     "data": {
      "text/plain": [
       "[('James', 118),\n",
       " ('William', 111),\n",
       " ('John', 108),\n",
       " ('Robert', 108),\n",
       " ('Mary', 92),\n",
       " ('Charles', 75),\n",
       " ('Michael', 74),\n",
       " ('Elizabeth', 73),\n",
       " ('Joseph', 70),\n",
       " ('Margaret', 60)]"
      ]
     },
     "execution_count": 11,
     "metadata": {},
     "output_type": "execute_result"
    }
   ],
   "source": [
    "org = list()\n",
    "\n",
    "with open(\"popular-names.txt\",\"r\") as f:\n",
    "    for l in f:\n",
    "        org.append(l.split(\"\\t\"))\n",
    "\n",
    "moststr = dict()\n",
    "for o in org:\n",
    "    if o[0] in moststr: moststr[o[0]] += 1\n",
    "    else: moststr[o[0]] = 1\n",
    "\n",
    "sorted(moststr.items(),key=lambda x: x[1],reverse=1)[:10]\n"
   ]
  }
 ],
 "metadata": {
  "kernelspec": {
   "display_name": "Python 3",
   "language": "python",
   "name": "python3"
  },
  "language_info": {
   "codemirror_mode": {
    "name": "ipython",
    "version": 3
   },
   "file_extension": ".py",
   "mimetype": "text/x-python",
   "name": "python",
   "nbconvert_exporter": "python",
   "pygments_lexer": "ipython3",
   "version": "3.9.6"
  }
 },
 "nbformat": 4,
 "nbformat_minor": 2
}
