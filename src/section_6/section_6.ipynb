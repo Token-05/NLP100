{
 "cells": [
  {
   "cell_type": "code",
   "execution_count": 72,
   "metadata": {},
   "outputs": [],
   "source": [
    "# 必要なもの\n",
    "\n",
    "# 処理系\n",
    "import pandas as pd\n",
    "import numpy as np\n",
    "import matplotlib.pyplot as plt\n",
    "\n",
    "# タイトルの単語列を特徴量として割り当てる\n",
    "from sklearn.feature_extraction.text import CountVectorizer\n",
    "\n",
    "# ロジスティック回帰\n",
    "from sklearn.linear_model import LogisticRegression\n",
    "\n",
    "# 混同行列、他\n",
    "from sklearn.metrics import confusion_matrix, f1_score, precision_score, recall_score\n",
    "\n",
    "# 複数リストの組み合わせ\n",
    "import itertools"
   ]
  },
  {
   "cell_type": "markdown",
   "metadata": {},
   "source": [
    "50. データの入手・整形\n",
    "\n",
    "[News Aggregator Data Set](https://archive.ics.uci.edu/ml/datasets/News+Aggregator)をダウンロードし、以下の要領で学習データ（train.txt），検証データ（valid.txt），評価データ（test.txt）を作成せよ．\n",
    "\n",
    "- ダウンロードしたzipファイルを解凍し，readme.txtの説明を読む．\n",
    "- 情報源（publisher）が”Reuters”, “Huffington Post”, “Businessweek”, “Contactmusic.com”, “Daily Mail”の事例（記事）のみを抽出する．\n",
    "- 抽出された事例をランダムに並び替える．\n",
    "- 抽出された事例の80%を学習データ，残りの10%ずつを検証データと評価データに分割し，それぞれtrain.txt，valid.txt，test.txtというファイル名で保存する．ファイルには，１行に１事例を書き出すこととし，カテゴリ名と記事見出しのタブ区切り形式とせよ（このファイルは後に問題70で再利用する）．\n",
    "\n",
    "学習データと評価データを作成したら，各カテゴリの事例数を確認せよ．"
   ]
  },
  {
   "cell_type": "code",
   "execution_count": 33,
   "metadata": {},
   "outputs": [
    {
     "name": "stdout",
     "output_type": "stream",
     "text": [
      "CATEGORY\n",
      "b    4518\n",
      "e    4178\n",
      "m     721\n",
      "t    1223\n",
      "dtype: int64 CATEGORY\n",
      "b    535\n",
      "e    557\n",
      "m     93\n",
      "t    145\n",
      "dtype: int64\n",
      "CATEGORY\n",
      "b    5627\n",
      "e    5278\n",
      "t    1524\n",
      "m     910\n",
      "Name: count, dtype: int64\n"
     ]
    }
   ],
   "source": [
    "# csvとして読み取り、namesにヘッダを追加\n",
    "df = pd.read_csv('news+aggregator/newsCorpora.tsv', sep='\\t', header=0, names=['TITLE','URL','PUBLISHER','CATEGORY','STORY','HOSTNAME','TIMESTAMP'])\n",
    "\n",
    "# 情報源（publisher）が”Reuters”, “Huffington Post”, “Businessweek”, “Contactmusic.com”, “Daily Mail”の事例（記事）のみを抽出する\n",
    "valid_publishers = [\"Reuters\", \"Huffington Post\", \"Businessweek\", \"Contactmusic.com\", \"Daily Mail\"]\n",
    "df_publisher = df[df['PUBLISHER'].isin(valid_publishers)]\n",
    "df_publisher\n",
    "\n",
    "# 抽出された事例をランダムに並び替える\n",
    "df_shuffle = df_publisher.sample(frac=1)\n",
    "df_shuffle\n",
    "\n",
    "# 抽出された事例の80%を学習データ，残りの10%ずつを検証データと評価データに分割し，それぞれtrain.txt，valid.txt，test.txtというファイル名で保存する\n",
    "length = len(df_shuffle)\n",
    "eighty = (length//100)*80\n",
    "ninety = (length//100)*90\n",
    "(train,valid,test) = (df_shuffle[:eighty],df_shuffle[eighty:ninety],df_shuffle[ninety:])\n",
    "\n",
    "# 分割したデータを保存\n",
    "train.to_csv(\"data/train.txt\",columns=['CATEGORY', 'TITLE'],sep='\\t',header=False, index=False)\n",
    "valid.to_csv(\"data/valid.txt\",columns=['CATEGORY', 'TITLE'],sep='\\t',header=False, index=False)\n",
    "test.to_csv(\"data/test.txt\",columns=['CATEGORY', 'TITLE'],sep='\\t',header=False, index=False)\n",
    "\n",
    "# 学習データと評価データを作成したら，各カテゴリの事例数を確認する\n",
    "print(train.groupby(\"CATEGORY\").size(),valid.groupby(\"CATEGORY\").size())\n",
    "print(df_shuffle['CATEGORY'].value_counts())"
   ]
  },
  {
   "cell_type": "markdown",
   "metadata": {},
   "source": [
    "51. 特徴量抽出\n",
    "\n",
    "学習データ，検証データ，評価データから特徴量を抽出し，それぞれtrain.feature.txt，valid.feature.txt，test.feature.txtというファイル名で保存せよ． なお，カテゴリ分類に有用そうな特徴量は各自で自由に設計せよ．記事の見出しを単語列に変換したものが最低限のベースラインとなるであろう．"
   ]
  },
  {
   "cell_type": "code",
   "execution_count": 34,
   "metadata": {},
   "outputs": [],
   "source": [
    "v = CountVectorizer()\n",
    "\n",
    "# モデルに流すデータには基本的に同じ幅を持たせたい\n",
    "# 最初にfit_transformを実行して最大値と最小値を決めると同時に正規化\n",
    "# 検証用と評価用は制限があるのでその中で正規化、つまりtransformだけ\n",
    "# 全部同じ関数で正規化してしまうと訓練したモデルに評価データが入らない\n",
    "\n",
    "X_train = v.fit_transform(train['TITLE'].to_numpy())\n",
    "X_valid = v.transform(valid['TITLE'].to_numpy())\n",
    "X_test = v.transform(test['TITLE'].to_numpy())\n",
    "\n",
    "np.savetxt('data/train.feature.txt', X_train.toarray(), fmt='%d')\n",
    "np.savetxt('data/valid.feature.txt', X_valid.toarray(), fmt='%d')\n",
    "np.savetxt('data/test.feature.txt', X_test.toarray(), fmt='%d')"
   ]
  },
  {
   "cell_type": "markdown",
   "metadata": {},
   "source": [
    "52. 学習\n",
    "\n",
    "51で構築した学習データを用いて，ロジスティック回帰モデルを学習せよ．"
   ]
  },
  {
   "cell_type": "code",
   "execution_count": 35,
   "metadata": {},
   "outputs": [
    {
     "name": "stderr",
     "output_type": "stream",
     "text": [
      "/Users/taketsunaichiyanagi/Library/Python/3.9/lib/python/site-packages/sklearn/linear_model/_logistic.py:460: ConvergenceWarning: lbfgs failed to converge (status=1):\n",
      "STOP: TOTAL NO. of ITERATIONS REACHED LIMIT.\n",
      "\n",
      "Increase the number of iterations (max_iter) or scale the data as shown in:\n",
      "    https://scikit-learn.org/stable/modules/preprocessing.html\n",
      "Please also refer to the documentation for alternative solver options:\n",
      "    https://scikit-learn.org/stable/modules/linear_model.html#logistic-regression\n",
      "  n_iter_i = _check_optimize_result(\n"
     ]
    }
   ],
   "source": [
    "# 先ほどの単語ベクトルを入力データ、カテゴリを正解データとしてモデルの訓練をする\n",
    "clf = LogisticRegression(random_state=0).fit(X_train, train['CATEGORY'])"
   ]
  },
  {
   "cell_type": "markdown",
   "metadata": {},
   "source": [
    "53. 予測\n",
    "\n",
    "52で学習したロジスティック回帰モデルを用い，与えられた記事見出しからカテゴリとその予測確率を計算するプログラムを実装せよ．"
   ]
  },
  {
   "cell_type": "code",
   "execution_count": 36,
   "metadata": {},
   "outputs": [
    {
     "name": "stdout",
     "output_type": "stream",
     "text": [
      "予測： ['m' 'e' 'b' 't' 'b' 'm' 'e' 'e' 'e' 'b']\n",
      "確率： ['99%', '98%', '98%', '66%', '100%', '90%', '94%', '80%', '89%', '80%']\n",
      "正解： ['m' 'e' 'b' 't' 'b' 'm' 'e' 'e' 'e' 'b']\n",
      "精度： 1.0\n"
     ]
    }
   ],
   "source": [
    "# N番目までのカテゴリと予測精度\n",
    "N = 10\n",
    "print('予測：', clf.predict(X_train[:N,:]))\n",
    "# 確率とは予測精度のこと、例えば先頭データについては99%の確率でmと言っている\n",
    "print('確率：', [str(round(i*100))+'%' for i in clf.predict_proba(X_train[:N,:]).max(axis=1)])\n",
    "print('正解：', train['CATEGORY'][:N].to_numpy())\n",
    "print('精度：', clf.score(X_train[:N,:],train['CATEGORY'][:N]))"
   ]
  },
  {
   "cell_type": "markdown",
   "metadata": {},
   "source": [
    "54. 正解率の計測\n",
    "\n",
    "52で学習したロジスティック回帰モデルの正解率を，学習データおよび評価データ上で計測せよ．"
   ]
  },
  {
   "cell_type": "code",
   "execution_count": 37,
   "metadata": {},
   "outputs": [
    {
     "name": "stdout",
     "output_type": "stream",
     "text": [
      "訓練： 0.9964285714285714\n",
      "評価： 0.9116143170197224\n"
     ]
    }
   ],
   "source": [
    "# それぞれの精度\n",
    "# 学習済モデルに訓練データを突っ込んでも100%になるわけではない\n",
    "print('訓練：', clf.score(X_train,train['CATEGORY']))\n",
    "print('評価：', clf.score(X_test,test['CATEGORY']))"
   ]
  },
  {
   "cell_type": "markdown",
   "metadata": {},
   "source": [
    "55. 混同行列の作成\n",
    "\n",
    "52で学習したロジスティック回帰モデルの混同行列（confusion matrix）を，学習データおよび評価データ上で作成せよ．"
   ]
  },
  {
   "cell_type": "code",
   "execution_count": 38,
   "metadata": {},
   "outputs": [
    {
     "name": "stdout",
     "output_type": "stream",
     "text": [
      "[[4508    2    0    8]\n",
      " [   6 4170    0    2]\n",
      " [   5    1  715    0]\n",
      " [  12    2    0 1209]]\n",
      "[[549  15   2   8]\n",
      " [  7 530   3   3]\n",
      " [ 11  20  59   6]\n",
      " [ 24  20   2 110]]\n"
     ]
    }
   ],
   "source": [
    "# 予測データと正解データとの混合行列\n",
    "y_train_predict = clf.predict(X_train)\n",
    "y_test_predict = clf.predict(X_test)\n",
    "\n",
    "# テストデータはまだ精度が甘く、データの混同が大きい\n",
    "print(confusion_matrix(train['CATEGORY'], y_train_predict))\n",
    "print(confusion_matrix(test['CATEGORY'], y_test_predict))"
   ]
  },
  {
   "cell_type": "markdown",
   "metadata": {},
   "source": [
    "56. 適合率，再現率，F1スコアの計測\n",
    "\n",
    "52で学習したロジスティック回帰モデルの適合率，再現率，F1スコアを，評価データ上で計測せよ．カテゴリごとに適合率，再現率，F1スコアを求め，カテゴリごとの性能をマイクロ平均（micro-average）とマクロ平均（macro-average）で統合せよ．"
   ]
  },
  {
   "cell_type": "code",
   "execution_count": 39,
   "metadata": {},
   "outputs": [
    {
     "name": "stdout",
     "output_type": "stream",
     "text": [
      "0.8987495105895122 0.9116143170197224\n",
      "0.8130541158382336 0.9116143170197224\n",
      "0.8469964507954999 0.9116143170197224\n"
     ]
    }
   ],
   "source": [
    "# 適合率\n",
    "print(precision_score(test['CATEGORY'], y_test_predict, average='macro'),precision_score(test['CATEGORY'], y_test_predict, average='micro'))\n",
    "# 再現率\n",
    "print(recall_score(test['CATEGORY'], y_test_predict, average='macro'),recall_score(test['CATEGORY'], y_test_predict, average='micro'))\n",
    "# f1スコア\n",
    "print(f1_score(test['CATEGORY'], y_test_predict, average='macro'),f1_score(test['CATEGORY'], y_test_predict, average='micro'))"
   ]
  },
  {
   "cell_type": "markdown",
   "metadata": {},
   "source": [
    "57. 特徴量の重みの確認\n",
    "\n",
    "52で学習したロジスティック回帰モデルの中で，重みの高い特徴量トップ10と，重みの低い特徴量トップ10を確認せよ．"
   ]
  },
  {
   "cell_type": "code",
   "execution_count": 58,
   "metadata": {},
   "outputs": [
    {
     "name": "stdout",
     "output_type": "stream",
     "text": [
      "[[ 0.0525578   0.01828987  0.00292138 ... -0.07098878 -0.04807168\n",
      "  -0.00108514]\n",
      " [-0.03362413 -0.01189816 -0.00153418 ...  0.13099771  0.10688934\n",
      "   0.00398011]\n",
      " [-0.00857174 -0.0020771  -0.00086191 ... -0.02085208 -0.0229664\n",
      "  -0.00100396]\n",
      " [-0.01036194 -0.00431461 -0.00052529 ... -0.03915686 -0.03585126\n",
      "  -0.00189101]]\n"
     ]
    },
    {
     "data": {
      "text/plain": [
       "<Axes: >"
      ]
     },
     "execution_count": 58,
     "metadata": {},
     "output_type": "execute_result"
    },
    {
     "data": {
      "image/png": "[encoded data removed]",
      "text/plain": [
       "<Figure size 640x480 with 1 Axes>"
      ]
     },
     "metadata": {},
     "output_type": "display_data"
    }
   ],
   "source": [
    "print(clf.coef_)\n",
    "\n",
    "# リストの後ろの方40個ほどを取り出してみた結果\n",
    "# yellen は business にかなり強く結びついてる\n",
    "# xbox は entertainment に関係性がある、などのことがわかる\n",
    "(start,end) = (-100,-60)\n",
    "df = pd.DataFrame(clf.coef_[:,start:end].T,columns=['business','entertainment','health','technology'],index=v.get_feature_names_out()[start:end])\n",
    "\n",
    "df.plot.bar()\n"
   ]
  },
  {
   "cell_type": "markdown",
   "metadata": {},
   "source": [
    "58. 正則化パラメータの変更\n",
    "\n",
    "ロジスティック回帰モデルを学習するとき，正則化パラメータを調整することで，学習時の過学習（overfitting）の度合いを制御できる．異なる正則化パラメータでロジスティック回帰モデルを学習し，学習データ，検証データ，および評価データ上の正解率を求めよ．実験の結果は，正則化パラメータを横軸，正解率を縦軸としたグラフにまとめよ．"
   ]
  },
  {
   "cell_type": "code",
   "execution_count": 71,
   "metadata": {},
   "outputs": [
    {
     "name": "stderr",
     "output_type": "stream",
     "text": [
      "/Users/taketsunaichiyanagi/Library/Python/3.9/lib/python/site-packages/sklearn/linear_model/_logistic.py:460: ConvergenceWarning: lbfgs failed to converge (status=1):\n",
      "STOP: TOTAL NO. of ITERATIONS REACHED LIMIT.\n",
      "\n",
      "Increase the number of iterations (max_iter) or scale the data as shown in:\n",
      "    https://scikit-learn.org/stable/modules/preprocessing.html\n",
      "Please also refer to the documentation for alternative solver options:\n",
      "    https://scikit-learn.org/stable/modules/linear_model.html#logistic-regression\n",
      "  n_iter_i = _check_optimize_result(\n",
      "/Users/taketsunaichiyanagi/Library/Python/3.9/lib/python/site-packages/sklearn/linear_model/_logistic.py:460: ConvergenceWarning: lbfgs failed to converge (status=1):\n",
      "STOP: TOTAL NO. of ITERATIONS REACHED LIMIT.\n",
      "\n",
      "Increase the number of iterations (max_iter) or scale the data as shown in:\n",
      "    https://scikit-learn.org/stable/modules/preprocessing.html\n",
      "Please also refer to the documentation for alternative solver options:\n",
      "    https://scikit-learn.org/stable/modules/linear_model.html#logistic-regression\n",
      "  n_iter_i = _check_optimize_result(\n",
      "/Users/taketsunaichiyanagi/Library/Python/3.9/lib/python/site-packages/sklearn/linear_model/_logistic.py:460: ConvergenceWarning: lbfgs failed to converge (status=1):\n",
      "STOP: TOTAL NO. of ITERATIONS REACHED LIMIT.\n",
      "\n",
      "Increase the number of iterations (max_iter) or scale the data as shown in:\n",
      "    https://scikit-learn.org/stable/modules/preprocessing.html\n",
      "Please also refer to the documentation for alternative solver options:\n",
      "    https://scikit-learn.org/stable/modules/linear_model.html#logistic-regression\n",
      "  n_iter_i = _check_optimize_result(\n",
      "/Users/taketsunaichiyanagi/Library/Python/3.9/lib/python/site-packages/sklearn/linear_model/_logistic.py:460: ConvergenceWarning: lbfgs failed to converge (status=1):\n",
      "STOP: TOTAL NO. of ITERATIONS REACHED LIMIT.\n",
      "\n",
      "Increase the number of iterations (max_iter) or scale the data as shown in:\n",
      "    https://scikit-learn.org/stable/modules/preprocessing.html\n",
      "Please also refer to the documentation for alternative solver options:\n",
      "    https://scikit-learn.org/stable/modules/linear_model.html#logistic-regression\n",
      "  n_iter_i = _check_optimize_result(\n",
      "/Users/taketsunaichiyanagi/Library/Python/3.9/lib/python/site-packages/sklearn/linear_model/_logistic.py:460: ConvergenceWarning: lbfgs failed to converge (status=1):\n",
      "STOP: TOTAL NO. of ITERATIONS REACHED LIMIT.\n",
      "\n",
      "Increase the number of iterations (max_iter) or scale the data as shown in:\n",
      "    https://scikit-learn.org/stable/modules/preprocessing.html\n",
      "Please also refer to the documentation for alternative solver options:\n",
      "    https://scikit-learn.org/stable/modules/linear_model.html#logistic-regression\n",
      "  n_iter_i = _check_optimize_result(\n"
     ]
    },
    {
     "data": {
      "text/plain": [
       "<matplotlib.legend.Legend at 0x2caee8ca0>"
      ]
     },
     "execution_count": 71,
     "metadata": {},
     "output_type": "execute_result"
    },
    {
     "data": {
      "image/png": "[encoded data removed]",
      "text/plain": [
       "<Figure size 640x480 with 1 Axes>"
      ]
     },
     "metadata": {},
     "output_type": "display_data"
    }
   ],
   "source": [
    "# Cをいじる(default:1.0)\n",
    "# 正則化を弱めたことで全体的に精度が下がった\n",
    "# つまり今回のような大量の特徴量を持つデータに対しては正則化は有効？\n",
    "\n",
    "# 得られた正則化パラメータでロジスティック回帰モデルで学習を行う\n",
    "def calc_acc(c):\n",
    "\n",
    "    clf = LogisticRegression(C=c)\n",
    "    clf.fit(X_train, train['CATEGORY'])\n",
    "    \n",
    "    return [\n",
    "        clf.score(X_train, train['CATEGORY']),\n",
    "        clf.score(X_valid, valid['CATEGORY']),\n",
    "        clf.score(X_test, test['CATEGORY'])\n",
    "    ]\n",
    "\n",
    "# 正則化パラメータを10^-5~10^4で網羅する\n",
    "C = np.logspace(-5, 4, 10, base=10)\n",
    "\n",
    "scores = []\n",
    "for c in C:\n",
    "    scores.append(calc_acc(c))\n",
    "\n",
    "# 各データでのグラフにするために全正則化パラメータでの結果について行と列を入れ替える\n",
    "scores = np.array(scores).T\n",
    "labels = ['train', 'valid', 'test']\n",
    "\n",
    "for score, label in zip(scores,labels):\n",
    "\n",
    "    # パラメータと各データとの折れ線グラフ\n",
    "    plt.plot(C, score, label=label)\n",
    "\n",
    "plt.ylim(0, 1.1)\n",
    "plt.xscale('log')\n",
    "plt.xlabel('C', fontsize = 14)\n",
    "plt.ylabel('Accuracy', fontsize = 14)\n",
    "plt.tick_params(labelsize=14)\n",
    "plt.grid(True)\n",
    "plt.legend()"
   ]
  },
  {
   "cell_type": "markdown",
   "metadata": {},
   "source": [
    "59. ハイパーパラメータの探索\n",
    "\n",
    "学習アルゴリズムや学習パラメータを変えながら，カテゴリ分類モデルを学習せよ．検証データ上の正解率が最も高くなる学習アルゴリズム・パラメータを求めよ．また，その学習アルゴリズム・パラメータを用いたときの評価データ上の正解率を求めよ．"
   ]
  },
  {
   "cell_type": "code",
   "execution_count": 74,
   "metadata": {},
   "outputs": [
    {
     "name": "stderr",
     "output_type": "stream",
     "text": [
      "/Users/taketsunaichiyanagi/Library/Python/3.9/lib/python/site-packages/sklearn/linear_model/_sag.py:350: ConvergenceWarning: The max_iter was reached which means the coef_ did not converge\n",
      "  warnings.warn(\n",
      "/Users/taketsunaichiyanagi/Library/Python/3.9/lib/python/site-packages/sklearn/linear_model/_sag.py:350: ConvergenceWarning: The max_iter was reached which means the coef_ did not converge\n",
      "  warnings.warn(\n",
      "/Users/taketsunaichiyanagi/Library/Python/3.9/lib/python/site-packages/sklearn/linear_model/_sag.py:350: ConvergenceWarning: The max_iter was reached which means the coef_ did not converge\n",
      "  warnings.warn(\n",
      "/Users/taketsunaichiyanagi/Library/Python/3.9/lib/python/site-packages/sklearn/linear_model/_sag.py:350: ConvergenceWarning: The max_iter was reached which means the coef_ did not converge\n",
      "  warnings.warn(\n",
      "/Users/taketsunaichiyanagi/Library/Python/3.9/lib/python/site-packages/sklearn/linear_model/_logistic.py:460: ConvergenceWarning: lbfgs failed to converge (status=1):\n",
      "STOP: TOTAL NO. of ITERATIONS REACHED LIMIT.\n",
      "\n",
      "Increase the number of iterations (max_iter) or scale the data as shown in:\n",
      "    https://scikit-learn.org/stable/modules/preprocessing.html\n",
      "Please also refer to the documentation for alternative solver options:\n",
      "    https://scikit-learn.org/stable/modules/linear_model.html#logistic-regression\n",
      "  n_iter_i = _check_optimize_result(\n",
      "/Users/taketsunaichiyanagi/Library/Python/3.9/lib/python/site-packages/sklearn/linear_model/_logistic.py:460: ConvergenceWarning: lbfgs failed to converge (status=1):\n",
      "STOP: TOTAL NO. of ITERATIONS REACHED LIMIT.\n",
      "\n",
      "Increase the number of iterations (max_iter) or scale the data as shown in:\n",
      "    https://scikit-learn.org/stable/modules/preprocessing.html\n",
      "Please also refer to the documentation for alternative solver options:\n",
      "    https://scikit-learn.org/stable/modules/linear_model.html#logistic-regression\n",
      "  n_iter_i = _check_optimize_result(\n",
      "/Users/taketsunaichiyanagi/Library/Python/3.9/lib/python/site-packages/sklearn/linear_model/_sag.py:350: ConvergenceWarning: The max_iter was reached which means the coef_ did not converge\n",
      "  warnings.warn(\n",
      "/Users/taketsunaichiyanagi/Library/Python/3.9/lib/python/site-packages/sklearn/linear_model/_sag.py:350: ConvergenceWarning: The max_iter was reached which means the coef_ did not converge\n",
      "  warnings.warn(\n",
      "/Users/taketsunaichiyanagi/Library/Python/3.9/lib/python/site-packages/sklearn/linear_model/_sag.py:350: ConvergenceWarning: The max_iter was reached which means the coef_ did not converge\n",
      "  warnings.warn(\n",
      "/Users/taketsunaichiyanagi/Library/Python/3.9/lib/python/site-packages/sklearn/linear_model/_sag.py:350: ConvergenceWarning: The max_iter was reached which means the coef_ did not converge\n",
      "  warnings.warn(\n",
      "/Users/taketsunaichiyanagi/Library/Python/3.9/lib/python/site-packages/sklearn/linear_model/_logistic.py:460: ConvergenceWarning: lbfgs failed to converge (status=1):\n",
      "STOP: TOTAL NO. of ITERATIONS REACHED LIMIT.\n",
      "\n",
      "Increase the number of iterations (max_iter) or scale the data as shown in:\n",
      "    https://scikit-learn.org/stable/modules/preprocessing.html\n",
      "Please also refer to the documentation for alternative solver options:\n",
      "    https://scikit-learn.org/stable/modules/linear_model.html#logistic-regression\n",
      "  n_iter_i = _check_optimize_result(\n",
      "/Users/taketsunaichiyanagi/Library/Python/3.9/lib/python/site-packages/sklearn/linear_model/_logistic.py:460: ConvergenceWarning: lbfgs failed to converge (status=1):\n",
      "STOP: TOTAL NO. of ITERATIONS REACHED LIMIT.\n",
      "\n",
      "Increase the number of iterations (max_iter) or scale the data as shown in:\n",
      "    https://scikit-learn.org/stable/modules/preprocessing.html\n",
      "Please also refer to the documentation for alternative solver options:\n",
      "    https://scikit-learn.org/stable/modules/linear_model.html#logistic-regression\n",
      "  n_iter_i = _check_optimize_result(\n",
      "/Users/taketsunaichiyanagi/Library/Python/3.9/lib/python/site-packages/sklearn/linear_model/_sag.py:350: ConvergenceWarning: The max_iter was reached which means the coef_ did not converge\n",
      "  warnings.warn(\n",
      "/Users/taketsunaichiyanagi/Library/Python/3.9/lib/python/site-packages/sklearn/linear_model/_sag.py:350: ConvergenceWarning: The max_iter was reached which means the coef_ did not converge\n",
      "  warnings.warn(\n",
      "/Users/taketsunaichiyanagi/Library/Python/3.9/lib/python/site-packages/sklearn/linear_model/_sag.py:350: ConvergenceWarning: The max_iter was reached which means the coef_ did not converge\n",
      "  warnings.warn(\n",
      "/Users/taketsunaichiyanagi/Library/Python/3.9/lib/python/site-packages/sklearn/linear_model/_sag.py:350: ConvergenceWarning: The max_iter was reached which means the coef_ did not converge\n",
      "  warnings.warn(\n",
      "/Users/taketsunaichiyanagi/Library/Python/3.9/lib/python/site-packages/sklearn/linear_model/_logistic.py:460: ConvergenceWarning: lbfgs failed to converge (status=1):\n",
      "STOP: TOTAL NO. of ITERATIONS REACHED LIMIT.\n",
      "\n",
      "Increase the number of iterations (max_iter) or scale the data as shown in:\n",
      "    https://scikit-learn.org/stable/modules/preprocessing.html\n",
      "Please also refer to the documentation for alternative solver options:\n",
      "    https://scikit-learn.org/stable/modules/linear_model.html#logistic-regression\n",
      "  n_iter_i = _check_optimize_result(\n",
      "/Users/taketsunaichiyanagi/Library/Python/3.9/lib/python/site-packages/sklearn/linear_model/_logistic.py:460: ConvergenceWarning: lbfgs failed to converge (status=1):\n",
      "STOP: TOTAL NO. of ITERATIONS REACHED LIMIT.\n",
      "\n",
      "Increase the number of iterations (max_iter) or scale the data as shown in:\n",
      "    https://scikit-learn.org/stable/modules/preprocessing.html\n",
      "Please also refer to the documentation for alternative solver options:\n",
      "    https://scikit-learn.org/stable/modules/linear_model.html#logistic-regression\n",
      "  n_iter_i = _check_optimize_result(\n",
      "/Users/taketsunaichiyanagi/Library/Python/3.9/lib/python/site-packages/sklearn/linear_model/_sag.py:350: ConvergenceWarning: The max_iter was reached which means the coef_ did not converge\n",
      "  warnings.warn(\n",
      "/Users/taketsunaichiyanagi/Library/Python/3.9/lib/python/site-packages/sklearn/linear_model/_sag.py:350: ConvergenceWarning: The max_iter was reached which means the coef_ did not converge\n",
      "  warnings.warn(\n",
      "/Users/taketsunaichiyanagi/Library/Python/3.9/lib/python/site-packages/sklearn/linear_model/_sag.py:350: ConvergenceWarning: The max_iter was reached which means the coef_ did not converge\n",
      "  warnings.warn(\n",
      "/Users/taketsunaichiyanagi/Library/Python/3.9/lib/python/site-packages/sklearn/linear_model/_sag.py:350: ConvergenceWarning: The max_iter was reached which means the coef_ did not converge\n",
      "  warnings.warn(\n",
      "/Users/taketsunaichiyanagi/Library/Python/3.9/lib/python/site-packages/sklearn/linear_model/_logistic.py:460: ConvergenceWarning: lbfgs failed to converge (status=1):\n",
      "STOP: TOTAL NO. of ITERATIONS REACHED LIMIT.\n",
      "\n",
      "Increase the number of iterations (max_iter) or scale the data as shown in:\n",
      "    https://scikit-learn.org/stable/modules/preprocessing.html\n",
      "Please also refer to the documentation for alternative solver options:\n",
      "    https://scikit-learn.org/stable/modules/linear_model.html#logistic-regression\n",
      "  n_iter_i = _check_optimize_result(\n",
      "/Users/taketsunaichiyanagi/Library/Python/3.9/lib/python/site-packages/sklearn/linear_model/_logistic.py:460: ConvergenceWarning: lbfgs failed to converge (status=1):\n",
      "STOP: TOTAL NO. of ITERATIONS REACHED LIMIT.\n",
      "\n",
      "Increase the number of iterations (max_iter) or scale the data as shown in:\n",
      "    https://scikit-learn.org/stable/modules/preprocessing.html\n",
      "Please also refer to the documentation for alternative solver options:\n",
      "    https://scikit-learn.org/stable/modules/linear_model.html#logistic-regression\n",
      "  n_iter_i = _check_optimize_result(\n",
      "/Users/taketsunaichiyanagi/Library/Python/3.9/lib/python/site-packages/sklearn/linear_model/_sag.py:350: ConvergenceWarning: The max_iter was reached which means the coef_ did not converge\n",
      "  warnings.warn(\n",
      "/Users/taketsunaichiyanagi/Library/Python/3.9/lib/python/site-packages/sklearn/linear_model/_sag.py:350: ConvergenceWarning: The max_iter was reached which means the coef_ did not converge\n",
      "  warnings.warn(\n",
      "/Users/taketsunaichiyanagi/Library/Python/3.9/lib/python/site-packages/sklearn/linear_model/_sag.py:350: ConvergenceWarning: The max_iter was reached which means the coef_ did not converge\n",
      "  warnings.warn(\n",
      "/Users/taketsunaichiyanagi/Library/Python/3.9/lib/python/site-packages/sklearn/linear_model/_sag.py:350: ConvergenceWarning: The max_iter was reached which means the coef_ did not converge\n",
      "  warnings.warn(\n",
      "/Users/taketsunaichiyanagi/Library/Python/3.9/lib/python/site-packages/sklearn/linear_model/_logistic.py:460: ConvergenceWarning: lbfgs failed to converge (status=1):\n",
      "STOP: TOTAL NO. of ITERATIONS REACHED LIMIT.\n",
      "\n",
      "Increase the number of iterations (max_iter) or scale the data as shown in:\n",
      "    https://scikit-learn.org/stable/modules/preprocessing.html\n",
      "Please also refer to the documentation for alternative solver options:\n",
      "    https://scikit-learn.org/stable/modules/linear_model.html#logistic-regression\n",
      "  n_iter_i = _check_optimize_result(\n",
      "/Users/taketsunaichiyanagi/Library/Python/3.9/lib/python/site-packages/sklearn/linear_model/_logistic.py:460: ConvergenceWarning: lbfgs failed to converge (status=1):\n",
      "STOP: TOTAL NO. of ITERATIONS REACHED LIMIT.\n",
      "\n",
      "Increase the number of iterations (max_iter) or scale the data as shown in:\n",
      "    https://scikit-learn.org/stable/modules/preprocessing.html\n",
      "Please also refer to the documentation for alternative solver options:\n",
      "    https://scikit-learn.org/stable/modules/linear_model.html#logistic-regression\n",
      "  n_iter_i = _check_optimize_result(\n",
      "/Users/taketsunaichiyanagi/Library/Python/3.9/lib/python/site-packages/sklearn/linear_model/_sag.py:350: ConvergenceWarning: The max_iter was reached which means the coef_ did not converge\n",
      "  warnings.warn(\n",
      "/Users/taketsunaichiyanagi/Library/Python/3.9/lib/python/site-packages/sklearn/linear_model/_sag.py:350: ConvergenceWarning: The max_iter was reached which means the coef_ did not converge\n",
      "  warnings.warn(\n",
      "/Users/taketsunaichiyanagi/Library/Python/3.9/lib/python/site-packages/sklearn/linear_model/_sag.py:350: ConvergenceWarning: The max_iter was reached which means the coef_ did not converge\n",
      "  warnings.warn(\n"
     ]
    },
    {
     "name": "stdout",
     "output_type": "stream",
     "text": [
      "最高の組み合わせとその正解率： (10.0, 'liblinear', 'balanced') 0.9165413533834587\n",
      "そのパラメータを用いたときの評価データの正解率 0.9225712198685172\n"
     ]
    },
    {
     "name": "stderr",
     "output_type": "stream",
     "text": [
      "/Users/taketsunaichiyanagi/Library/Python/3.9/lib/python/site-packages/sklearn/linear_model/_sag.py:350: ConvergenceWarning: The max_iter was reached which means the coef_ did not converge\n",
      "  warnings.warn(\n"
     ]
    }
   ],
   "source": [
    "# 先ほどのコードについて、学習アルゴリズム・学習パラメータを追加する\n",
    "def calc_acc(c,solver,class_weight):\n",
    "\n",
    "    clf = LogisticRegression(C=c, solver=solver, class_weight=class_weight)\n",
    "    clf.fit(X_train, train['CATEGORY'])\n",
    "    \n",
    "    return [\n",
    "        clf.score(X_train, train['CATEGORY']),\n",
    "        clf.score(X_valid, valid['CATEGORY']),\n",
    "        clf.score(X_test, test['CATEGORY'])\n",
    "    ]\n",
    "\n",
    "# 学習アルゴリズム、正則化パラメータ、学習パラメータを全パターン用意\n",
    "solver = ['lbfgs', 'liblinear', 'newton-cg', 'newton-cholesky', 'sag', 'saga']\n",
    "C = np.logspace(-5, 4, 10, base=10)\n",
    "class_weight = [None,'balanced']\n",
    "\n",
    "best_score = 0\n",
    "best_score_test = None\n",
    "best_param = None\n",
    "\n",
    "for c,s,cw in itertools.product(C,solver,class_weight):\n",
    "\n",
    "    scores = calc_acc(c, s, cw)\n",
    "    if scores[1] > best_score:\n",
    "\n",
    "        # 全パターンについて学習を行い、最もスコアが高いものをベストスコアとして更新していく\n",
    "        best_score = scores[1]\n",
    "        best_score_test = scores[2]\n",
    "        best_param = (c,s,cw)\n",
    "\n",
    "print('最高の組み合わせとその正解率：',best_param,best_score)\n",
    "print('そのパラメータを用いたときの評価データの正解率',best_score_test)"
   ]
  },
  {
   "cell_type": "markdown",
   "metadata": {},
   "source": [
    "### 結果\n",
    "\n",
    "- 最高の組み合わせとその正解率： (10.0, 'liblinear', 'balanced') 0.9165413533834587\n",
    "- そのパラメータを用いたときの評価データの正解率 0.9225712198685172"
   ]
  }
 ],
 "metadata": {
  "kernelspec": {
   "display_name": "Python 3",
   "language": "python",
   "name": "python3"
  },
  "language_info": {
   "codemirror_mode": {
    "name": "ipython",
    "version": 3
   },
   "file_extension": ".py",
   "mimetype": "text/x-python",
   "name": "python",
   "nbconvert_exporter": "python",
   "pygments_lexer": "ipython3",
   "version": "3.9.6"
  }
 },
 "nbformat": 4,
 "nbformat_minor": 2
}
